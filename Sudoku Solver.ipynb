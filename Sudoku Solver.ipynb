{
 "cells": [
  {
   "cell_type": "markdown",
   "id": "11e5b550",
   "metadata": {},
   "source": [
    "## Sudoku Solver project"
   ]
  },
  {
   "cell_type": "code",
   "execution_count": 82,
   "id": "57746bb7",
   "metadata": {},
   "outputs": [],
   "source": [
    "# This is a first, so you still have to imput the numbers in the grid."
   ]
  },
  {
   "cell_type": "code",
   "execution_count": 83,
   "id": "a7440e6d",
   "metadata": {},
   "outputs": [],
   "source": [
    "import numpy as np"
   ]
  },
  {
   "cell_type": "code",
   "execution_count": 134,
   "id": "2f764f37",
   "metadata": {},
   "outputs": [],
   "source": [
    "grid = [[6,5,0,0,7,9,3,0,0],\n",
    "        [0,0,2,0,0,0,0,0,6],\n",
    "        [0,0,9,0,0,5,0,0,0],\n",
    "        [0,0,0,0,2,0,0,8,0],\n",
    "        [0,9,0,0,0,0,0,0,0],\n",
    "        [5,3,0,0,0,8,0,0,4],\n",
    "        [0,0,0,1,0,0,7,0,0],\n",
    "        [0,0,6,0,0,0,0,0,0],\n",
    "        [4,8,0,0,0,2,0,0,3]]"
   ]
  },
  {
   "cell_type": "code",
   "execution_count": 112,
   "id": "c00e3d2d",
   "metadata": {},
   "outputs": [
    {
     "name": "stdout",
     "output_type": "stream",
     "text": [
      "[[0, 1, 0, 0, 0, 0, 7, 0, 0], [7, 0, 3, 0, 0, 0, 0, 0, 9], [9, 0, 0, 3, 7, 4, 6, 0, 0], [0, 0, 0, 4, 9, 0, 0, 8, 2], [0, 9, 6, 2, 0, 8, 0, 0, 0], [2, 0, 0, 0, 0, 0, 0, 1, 0], [0, 0, 0, 0, 0, 1, 0, 0, 0], [8, 3, 0, 0, 4, 9, 5, 0, 7], [0, 4, 9, 0, 0, 0, 0, 0, 3]]\n"
     ]
    }
   ],
   "source": [
    "print(grid)"
   ]
  },
  {
   "cell_type": "code",
   "execution_count": 116,
   "id": "f47ebfc8",
   "metadata": {},
   "outputs": [
    {
     "name": "stdout",
     "output_type": "stream",
     "text": [
      "[[5 3 0 0 7 0 0 0 0]\n",
      " [6 0 0 1 9 5 0 0 0]\n",
      " [0 9 8 0 0 0 0 6 0]\n",
      " [8 0 0 0 6 0 0 0 3]\n",
      " [4 0 0 8 0 3 0 0 1]\n",
      " [7 0 0 0 2 0 0 0 6]\n",
      " [0 6 0 0 0 0 2 8 0]\n",
      " [0 0 0 4 1 9 0 0 5]\n",
      " [0 0 0 0 8 0 0 7 9]]\n"
     ]
    }
   ],
   "source": [
    "print(np.matrix(grid))"
   ]
  },
  {
   "cell_type": "code",
   "execution_count": 125,
   "id": "38b0a1b0",
   "metadata": {},
   "outputs": [],
   "source": [
    "def possible(y,x,n) :\n",
    "    global grid\n",
    "    for i in range(0,9) :\n",
    "        if grid [y][i] == n :\n",
    "            return False\n",
    "    for i in range(0,9):\n",
    "        if grid [i][x] == n :\n",
    "            return False\n",
    "    x0 = (x//3)*3\n",
    "    y0 = (y//3)*3\n",
    "    for i in range(0,3) :\n",
    "        for j in range(0,3) :\n",
    "            if grid[y0+i][x0+j] == n :\n",
    "                return False\n",
    "    return True            "
   ]
  },
  {
   "cell_type": "code",
   "execution_count": 88,
   "id": "a34f6d3f",
   "metadata": {},
   "outputs": [],
   "source": [
    "# possible(x,y,n) means \"x\" is the location in the matrix from left to right of the number we want to check from 0 to 8\n",
    "# \"y\" is location from the top to the bottom and \"n\" is the number we want to check. \n",
    "# If returns True, the number can be added to the field."
   ]
  },
  {
   "cell_type": "code",
   "execution_count": 89,
   "id": "d3a943a9",
   "metadata": {},
   "outputs": [
    {
     "data": {
      "text/plain": [
       "True"
      ]
     },
     "execution_count": 89,
     "metadata": {},
     "output_type": "execute_result"
    }
   ],
   "source": [
    "possible(0,0,6)"
   ]
  },
  {
   "cell_type": "code",
   "execution_count": 90,
   "id": "ba180cad",
   "metadata": {},
   "outputs": [
    {
     "data": {
      "text/plain": [
       "False"
      ]
     },
     "execution_count": 90,
     "metadata": {},
     "output_type": "execute_result"
    }
   ],
   "source": [
    "possible(6,3,1)"
   ]
  },
  {
   "cell_type": "code",
   "execution_count": 91,
   "id": "a8a13775",
   "metadata": {},
   "outputs": [
    {
     "data": {
      "text/plain": [
       "False"
      ]
     },
     "execution_count": 91,
     "metadata": {},
     "output_type": "execute_result"
    }
   ],
   "source": [
    "possible(4,3,9)"
   ]
  },
  {
   "cell_type": "code",
   "execution_count": 135,
   "id": "80d8e990",
   "metadata": {},
   "outputs": [],
   "source": [
    "def solve() :\n",
    "    global grid\n",
    "    for y in range(9) :\n",
    "        for x in range(9) :\n",
    "            if grid[y][x] == 0 :\n",
    "                for n in range(1,10) :\n",
    "                    if possible(y,x,n) :\n",
    "                        grid[y][x] = n\n",
    "                        solve()\n",
    "                        grid[y][x] = 0\n",
    "                return\n",
    "    print(np.matrix(grid))\n",
    "    input('Done')"
   ]
  },
  {
   "cell_type": "code",
   "execution_count": null,
   "id": "dcae8dce",
   "metadata": {},
   "outputs": [
    {
     "name": "stdout",
     "output_type": "stream",
     "text": [
      "[[6 5 1 8 7 9 3 4 2]\n",
      " [8 7 2 4 3 1 5 9 6]\n",
      " [3 4 9 2 6 5 8 7 1]\n",
      " [1 6 4 3 2 7 9 8 5]\n",
      " [2 9 8 6 5 4 1 3 7]\n",
      " [5 3 7 9 1 8 2 6 4]\n",
      " [9 2 3 1 4 6 7 5 8]\n",
      " [7 1 6 5 8 3 4 2 9]\n",
      " [4 8 5 7 9 2 6 1 3]]\n"
     ]
    }
   ],
   "source": [
    "solve()"
   ]
  },
  {
   "cell_type": "code",
   "execution_count": null,
   "id": "aa770d31",
   "metadata": {},
   "outputs": [],
   "source": []
  }
 ],
 "metadata": {
  "kernelspec": {
   "display_name": "Python 3 (ipykernel)",
   "language": "python",
   "name": "python3"
  },
  "language_info": {
   "codemirror_mode": {
    "name": "ipython",
    "version": 3
   },
   "file_extension": ".py",
   "mimetype": "text/x-python",
   "name": "python",
   "nbconvert_exporter": "python",
   "pygments_lexer": "ipython3",
   "version": "3.9.12"
  }
 },
 "nbformat": 4,
 "nbformat_minor": 5
}
